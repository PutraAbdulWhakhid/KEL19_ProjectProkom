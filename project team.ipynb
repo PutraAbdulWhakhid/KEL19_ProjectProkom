{
 "cells": [
  {
   "cell_type": "code",
   "execution_count": 4,
   "metadata": {},
   "outputs": [
    {
     "name": "stderr",
     "output_type": "stream",
     "text": [
      "C:\\Users\\ASUS\\AppData\\Local\\Temp\\ipykernel_23000\\1353378309.py:54: FutureWarning: The frame.append method is deprecated and will be removed from pandas in a future version. Use pandas.concat instead.\n",
      "  df = df.append(values, ignore_index=True)\n"
     ]
    },
    {
     "ename": "KeyboardInterrupt",
     "evalue": "",
     "output_type": "error",
     "traceback": [
      "\u001b[1;31m---------------------------------------------------------------------------\u001b[0m",
      "\u001b[1;31mKeyboardInterrupt\u001b[0m                         Traceback (most recent call last)",
      "\u001b[1;32md:\\TEAM PROJECT PROKOM\\KEL19_ProjectProkom\\project team.ipynb Cell 1'\u001b[0m in \u001b[0;36m<cell line: 78>\u001b[1;34m()\u001b[0m\n\u001b[0;32m     <a href='vscode-notebook-cell:/d%3A/TEAM%20PROJECT%20PROKOM/KEL19_ProjectProkom/project%20team.ipynb#ch0000000?line=74'>75</a>\u001b[0m btn\u001b[39m.\u001b[39mpack()\n\u001b[0;32m     <a href='vscode-notebook-cell:/d%3A/TEAM%20PROJECT%20PROKOM/KEL19_ProjectProkom/project%20team.ipynb#ch0000000?line=76'>77</a>\u001b[0m mainform\u001b[39m.\u001b[39mwm_title(\u001b[39m'\u001b[39m\u001b[39mSelamat datang pada program penyewaan jasa fotografi\u001b[39m\u001b[39m'\u001b[39m)\n\u001b[1;32m---> <a href='vscode-notebook-cell:/d%3A/TEAM%20PROJECT%20PROKOM/KEL19_ProjectProkom/project%20team.ipynb#ch0000000?line=77'>78</a>\u001b[0m mainform\u001b[39m.\u001b[39;49mmainloop()\n",
      "File \u001b[1;32mc:\\Users\\ASUS\\anaconda3\\lib\\tkinter\\__init__.py:1429\u001b[0m, in \u001b[0;36mMisc.mainloop\u001b[1;34m(self, n)\u001b[0m\n\u001b[0;32m   <a href='file:///c%3A/Users/ASUS/anaconda3/lib/tkinter/__init__.py?line=1426'>1427</a>\u001b[0m \u001b[39mdef\u001b[39;00m \u001b[39mmainloop\u001b[39m(\u001b[39mself\u001b[39m, n\u001b[39m=\u001b[39m\u001b[39m0\u001b[39m):\n\u001b[0;32m   <a href='file:///c%3A/Users/ASUS/anaconda3/lib/tkinter/__init__.py?line=1427'>1428</a>\u001b[0m     \u001b[39m\"\"\"Call the mainloop of Tk.\"\"\"\u001b[39;00m\n\u001b[1;32m-> <a href='file:///c%3A/Users/ASUS/anaconda3/lib/tkinter/__init__.py?line=1428'>1429</a>\u001b[0m     \u001b[39mself\u001b[39;49m\u001b[39m.\u001b[39;49mtk\u001b[39m.\u001b[39;49mmainloop(n)\n",
      "\u001b[1;31mKeyboardInterrupt\u001b[0m: "
     ]
    }
   ],
   "source": [
    "import pandas as pd\n",
    "import tkinter as tk\n",
    "import tkinter.messagebox as tm\n",
    "import PySimpleGUI as sg\n",
    "\n",
    "df = pd.read_excel('Book1.xlsx')\n",
    "df = df.to_string()\n",
    "def buttonclick():\n",
    "    if txt.get() == 'Birthday':\n",
    "        tm.showinfo(\"Jasa Fotografi Kelompok 19\", \"Klik Ok Untuk lanjut memesan paket Birthday %s\" %(txt.get()))\n",
    "    if txt.get() == 'Wedding':\n",
    "        tm.showinfo(\"Jasa Fotografi Kelompok 19\", \"Klik Ok Untuk lanjut memesan paket Wedding %s\" %(txt.get()))\n",
    "    if txt.get() == 'Prewedding':\n",
    "        tm.showinfo(\"Jasa Fotografi Kelompok 19\", \"Klik Ok Untuk lanjut memesan paket Prewedding %s\" %(txt.get()))\n",
    "    if txt.get() == 'Photo Product':\n",
    "        tm.showinfo(\"Jasa Fotografi Kelompok 19\", \"Klik Ok Untuk lanjut memesan paket Photo Product %s\" %(txt.get()))\n",
    "    if txt.get() == 'Year Book':\n",
    "        tm.showinfo(\"Jasa Fotografi Kelompok 19\", \"Klik Ok Untuk lanjut memesan paket Year Book %s\" %(txt.get()))\n",
    "\n",
    "    sg.theme('DarkGreen')\n",
    "    EXCEL_FILE = 'DataPendaftar.xlsx'\n",
    "\n",
    "    df = pd.read_excel(EXCEL_FILE)\n",
    "\n",
    "    layout= [\n",
    "    [sg.Text('Masukkan Data Anda: ')],\n",
    "    [sg.Text('Nama', size=(15,1)), sg.InputText(key='Nama')],\n",
    "    [sg.Text('No telepon', size=(15,1)), sg.InputText(key='Tlp')],\n",
    "    [sg.Text('Alamat', size=(15,1)), sg.Multiline(key='Alamat')],\n",
    "    [sg.Text('Tgl Lahir', size=(15,1)),sg.InputText(key='Tgl Lahir'),\n",
    "                                sg.CalendarButton('kalender',target= 'Tgl Lahir',format=('%d-%M-%Y'))],\n",
    "    [sg.Text('Gender', size=(15,1)),sg.Combo(['pria','wanita'],key='Gender')],\n",
    "    [sg.Text('Paket yang dipesan', size=(15,1)),sg.Checkbox('Birthday',key='Birthday'),\n",
    "                                sg.Checkbox('Wedding',key='Wedding'),\n",
    "                                sg.Checkbox('Prewedding',key='Prewedding'),\n",
    "                                sg.Checkbox('Photo Product',key='Photo Product')],\n",
    "    [sg.Submit(),sg.Button('clear'),sg.Exit()]                         \n",
    "    ]\n",
    "\n",
    "    window=sg.Window('Form pendaftaran',layout)\n",
    "\n",
    "    def clear_input():\n",
    "        for key in values:\n",
    "            window[key]('')\n",
    "            return None\n",
    "\n",
    "    while True:\n",
    "        event, values = window.read()\n",
    "        if event == sg.WIN_CLOSED or event == 'EXIT':\n",
    "            break\n",
    "        if event == 'Clear':\n",
    "            clear_input()\n",
    "        if event == 'Submit':\n",
    "            df = df.append(values, ignore_index=True)\n",
    "            df.to_excel(EXCEL_FILE, index=False)\n",
    "            sg.popup('Data telah disimpan')\n",
    "            clear_input()\n",
    "    window.close()\n",
    "\n",
    "mainform = tk.Tk()\n",
    "lbl = tk.Label(mainform)\n",
    "lbl ['text'] = str(df)\n",
    "lbl.pack()\n",
    "\n",
    "lab = tk.Label(mainform)\n",
    "lab ['text'] = \"Masukkan pilihan paket Anda\"\n",
    "lab.pack()\n",
    "    \n",
    "txt = tk.Entry(mainform)\n",
    "txt ['width'] = 100\n",
    "txt.pack()\n",
    "\n",
    "btn = tk.Button(mainform, command=buttonclick)\n",
    "btn ['text'] = \"Lanjut\"\n",
    "btn.pack()\n",
    "\n",
    "mainform.wm_title('Selamat datang pada program penyewaan jasa fotografi')\n",
    "mainform.mainloop()\n"
   ]
  }
 ],
 "metadata": {
  "interpreter": {
   "hash": "a90aeebcf29d64a654773811cc170cb25061cb2498f10ac689db374c7bf325de"
  },
  "kernelspec": {
   "display_name": "Python 3.9.12 ('base')",
   "language": "python",
   "name": "python3"
  },
  "language_info": {
   "codemirror_mode": {
    "name": "ipython",
    "version": 3
   },
   "file_extension": ".py",
   "mimetype": "text/x-python",
   "name": "python",
   "nbconvert_exporter": "python",
   "pygments_lexer": "ipython3",
   "version": "3.9.12"
  },
  "orig_nbformat": 4
 },
 "nbformat": 4,
 "nbformat_minor": 2
}
