{
 "cells": [
  {
   "cell_type": "code",
   "execution_count": 1,
   "metadata": {},
   "outputs": [
    {
     "name": "stdout",
     "output_type": "stream",
     "text": [
      "=======================================================\n",
      "Selamat datang pada program penyewaan jasa fotografi\n",
      "=======================================================\n",
      "                  ~~Birthday~~              ~~Wedding~~  \\\n",
      "0                IDR 1.000.000             IDR 5000.000   \n",
      "1                 Durasi 6 jam           Durasi 1 Hari    \n",
      "2                 1 Fotografer             2 Fotografer   \n",
      "3  1 DVD File Foto (Soft Copy)            2 Vidiografer   \n",
      "4       1 Album Foto Landscape   2 Album Foto Landscape   \n",
      "5              Ukuran 20×30 cm          Ukuran 20×30 cm   \n",
      "6        (5 Sheet/10 Halaman )   (10 Sheet/20 Halaman )   \n",
      "\n",
      "                ~~Prewedding~~           ~~Photo Product~~  \\\n",
      "0                IDR 3.000.000               IDR 2.000.000   \n",
      "1                Durasi 12 jam                Durasi 3 jam   \n",
      "2                 2 Fotografer                1 Fotografer   \n",
      "3  1 DVD File Foto (Soft Copy)          File asli (drive)    \n",
      "4                 10 Foto edit     30 Foto + Semua diedit    \n",
      "5               Outdoor Indoor   Hard File Ukuran 20×30 cm   \n",
      "6    2 Foto Cetak 12 R+Bingkai       (5 Sheet/10 Halaman )   \n",
      "\n",
      "                    ~~Year Book~~  \n",
      "0                IDR 70.000/orang  \n",
      "1           Durasi 6 jam/40 orang  \n",
      "2                    1 Fotografer  \n",
      "3  Foto individu, kelas, angkatan  \n",
      "4     1 Hard file buku 30 halaman  \n",
      "5                 Ukuran 30×20 cm  \n",
      "6               Bonus file Ebook   \n",
      "=======================================================\n",
      "Selamat datang pada program penyewaan jasa fotografi\n",
      "=======================================================\n",
      "                  ~~Birthday~~              ~~Wedding~~  \\\n",
      "0                IDR 1.000.000             IDR 5000.000   \n",
      "1                 Durasi 6 jam           Durasi 1 Hari    \n",
      "2                 1 Fotografer             2 Fotografer   \n",
      "3  1 DVD File Foto (Soft Copy)            2 Vidiografer   \n",
      "4       1 Album Foto Landscape   2 Album Foto Landscape   \n",
      "5              Ukuran 20×30 cm          Ukuran 20×30 cm   \n",
      "6        (5 Sheet/10 Halaman )   (10 Sheet/20 Halaman )   \n",
      "\n",
      "                ~~Prewedding~~           ~~Photo Product~~  \\\n",
      "0                IDR 3.000.000               IDR 2.000.000   \n",
      "1                Durasi 12 jam                Durasi 3 jam   \n",
      "2                 2 Fotografer                1 Fotografer   \n",
      "3  1 DVD File Foto (Soft Copy)          File asli (drive)    \n",
      "4                 10 Foto edit     30 Foto + Semua diedit    \n",
      "5               Outdoor Indoor   Hard File Ukuran 20×30 cm   \n",
      "6    2 Foto Cetak 12 R+Bingkai       (5 Sheet/10 Halaman )   \n",
      "\n",
      "                    ~~Year Book~~  \n",
      "0                IDR 70.000/orang  \n",
      "1           Durasi 6 jam/40 orang  \n",
      "2                    1 Fotografer  \n",
      "3  Foto individu, kelas, angkatan  \n",
      "4     1 Hard file buku 30 halaman  \n",
      "5                 Ukuran 30×20 cm  \n",
      "6               Bonus file Ebook   \n"
     ]
    }
   ],
   "source": [
    "import pandas as pd\n",
    "import tkinter\n",
    "jadipesan = 'N'\n",
    "while jadipesan == 'N':\n",
    "    print('='*55)\n",
    "    print('Selamat datang pada program penyewaan jasa fotografi')\n",
    "    print('='*55)\n",
    "    df = pd.read_excel('Book1.xlsx')\n",
    "    print(df)\n",
    "   \n",
    "    mainform = tkinter.Tk()\n",
    "    lbl = tkinter.Label(mainform)\n",
    "    lbl ['text'] = (\"Masukkan paket yang anda pilih\")\n",
    "    lbl.pack()\n",
    "    \n",
    "    txt = tkinter.Entry(mainform)\n",
    "    txt ['width'] = 40\n",
    "    txt.pack()\n",
    "    btn = tkinter.Button(mainform)\n",
    "    btn ['text'] = \"Lanjut\"\n",
    "    btn.pack()\n",
    "\n",
    "    mainform.wm_title('Welcome')\n",
    "    mainform.mainloop()\n"
   ]
  }
 ],
 "metadata": {
  "interpreter": {
   "hash": "9b8043f310a8ac91d645054e286a77b75be7796266b543ba454414369020b556"
  },
  "kernelspec": {
   "display_name": "Python 3.9.12 ('base')",
   "language": "python",
   "name": "python3"
  },
  "language_info": {
   "codemirror_mode": {
    "name": "ipython",
    "version": 3
   },
   "file_extension": ".py",
   "mimetype": "text/x-python",
   "name": "python",
   "nbconvert_exporter": "python",
   "pygments_lexer": "ipython3",
   "version": "3.9.12"
  },
  "orig_nbformat": 4
 },
 "nbformat": 4,
 "nbformat_minor": 2
}
